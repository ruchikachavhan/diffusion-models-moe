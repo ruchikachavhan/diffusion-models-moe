{
 "cells": [
  {
   "cell_type": "code",
   "execution_count": 1,
   "metadata": {},
   "outputs": [],
   "source": [
    "import os\n",
    "import numpy as np\n",
    "import torch\n",
    "import json"
   ]
  },
  {
   "cell_type": "code",
   "execution_count": null,
   "metadata": {},
   "outputs": [],
   "source": [
    "# initialise arguments\n",
    "concepts = ['under a tree']\n",
    "test_name = 'skilled_neuron_t_test'\n",
    "ratio = [0.3]\n",
    "seed = 0\n",
    "root = f'../results/results_seed_{seed}/LCM/baseline/lcm-sdxl/modularity/%s/{test_name}/%s/'\n",
    "timesteps = 4\n",
    "n_layers = 70"
   ]
  }
 ],
 "metadata": {
  "kernelspec": {
   "display_name": "moe",
   "language": "python",
   "name": "python3"
  },
  "language_info": {
   "codemirror_mode": {
    "name": "ipython",
    "version": 3
   },
   "file_extension": ".py",
   "mimetype": "text/x-python",
   "name": "python",
   "nbconvert_exporter": "python",
   "pygments_lexer": "ipython3",
   "version": "3.10.13"
  }
 },
 "nbformat": 4,
 "nbformat_minor": 2
}
