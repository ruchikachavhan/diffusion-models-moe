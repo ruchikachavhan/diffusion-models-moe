{
 "cells": [
  {
   "cell_type": "code",
   "execution_count": 1,
   "metadata": {},
   "outputs": [],
   "source": [
    "import os\n",
    "import sys\n",
    "import json\n",
    "import torch\n",
    "import numpy as np\n",
    "import pandas as pd\n",
    "from PIL import Image\n",
    "from torchmetrics.image.fid import FrechetInceptionDistance as FID"
   ]
  },
  {
   "cell_type": "code",
   "execution_count": 2,
   "metadata": {},
   "outputs": [],
   "source": [
    "def coco_dataset(data_path, split, num_images=1000):\n",
    "    with open(os.path.join(data_path, f'annotations/captions_{split}2014.json')) as f:\n",
    "        data = json.load(f)\n",
    "    data = data['annotations']\n",
    "    # select 30k images randomly\n",
    "    np.random.seed(0)\n",
    "    np.random.shuffle(data)\n",
    "    data = data[:num_images]\n",
    "    imgs = [os.path.join(data_path, f'{split}2014', 'COCO_' + split + '2014_' + str(ann['image_id']).zfill(12) + '.jpg') for ann in data]\n",
    "    anns = [ann['caption'] for ann in data]\n",
    "    return imgs, anns"
   ]
  },
  {
   "cell_type": "code",
   "execution_count": 3,
   "metadata": {},
   "outputs": [
    {
     "name": "stdout",
     "output_type": "stream",
     "text": [
      "Evaluating on COCO dataset 30000 30000\n"
     ]
    }
   ],
   "source": [
    "# calculate FID between original images and generated images\n",
    "imgs, anns = coco_dataset('../../COCO-vqa', 'val', 30000)\n",
    "print(\"Evaluating on COCO dataset\", len(imgs), len(anns))"
   ]
  },
  {
   "cell_type": "code",
   "execution_count": 8,
   "metadata": {},
   "outputs": [
    {
     "name": "stdout",
     "output_type": "stream",
     "text": [
      "torch.Size([10000, 3, 512, 512]) torch.Size([10000, 3, 512, 512])\n",
      "Calculating FID\n",
      "FID: tensor(32.2025)\n"
     ]
    }
   ],
   "source": [
    "# read the images and generated images\n",
    "concepts_to_remove = 'Monet'\n",
    "fine_tuned_unet = 'union-timesteps'\n",
    "dataset_type = 'coco'\n",
    "output_path = f'../benchmarking results/{fine_tuned_unet}/{dataset_type}/{concepts_to_remove}'\n",
    "# read the generated images\n",
    "gen_imgs = []\n",
    "orig_imgs = []\n",
    "\n",
    "for i in range(len(imgs)):\n",
    "    if i >= 10000:\n",
    "        break\n",
    "    print(i)\n",
    "    img = Image.open(imgs[i]).convert('RGB')\n",
    "    img = img.resize((512, 512))\n",
    "    orig_imgs.append(np.array(img))\n",
    "\n",
    "    img = Image.open(f'{output_path}/removed_{i}.png')\n",
    "    gen_imgs.append(np.array(img))\n",
    "\n",
    "# calculate FID\n",
    "# stack the images\n",
    "orig_imgs = np.stack(orig_imgs)\n",
    "gen_imgs = np.stack(gen_imgs)\n",
    "# convert to tensor\n",
    "orig_imgs = torch.tensor(orig_imgs).permute(0, 3, 1, 2)\n",
    "gen_imgs = torch.tensor(gen_imgs).permute(0, 3, 1, 2)\n",
    "print(orig_imgs.shape, gen_imgs.shape)\n",
    "print(\"Calculating FID\")\n",
    "# calculate FID\n",
    "fid = FID(normalize=True)\n",
    "fid.update(orig_imgs, real=True)\n",
    "fid.update(gen_imgs, real=False)\n",
    "fid = fid.compute()\n",
    "\n",
    "print(\"FID:\", fid)"
   ]
  },
  {
   "cell_type": "code",
   "execution_count": null,
   "metadata": {},
   "outputs": [],
   "source": []
  }
 ],
 "metadata": {
  "kernelspec": {
   "display_name": "moe",
   "language": "python",
   "name": "python3"
  },
  "language_info": {
   "codemirror_mode": {
    "name": "ipython",
    "version": 3
   },
   "file_extension": ".py",
   "mimetype": "text/x-python",
   "name": "python",
   "nbconvert_exporter": "python",
   "pygments_lexer": "ipython3",
   "version": "3.10.13"
  }
 },
 "nbformat": 4,
 "nbformat_minor": 2
}
