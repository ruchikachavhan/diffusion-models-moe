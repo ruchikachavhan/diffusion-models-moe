{
 "cells": [
  {
   "cell_type": "code",
   "execution_count": 1,
   "id": "cf64be82-c3bf-43ac-9aab-8b08dd929bfe",
   "metadata": {},
   "outputs": [],
   "source": [
    "import os\n",
    "import numpy as np\n",
    "import torch"
   ]
  },
  {
   "cell_type": "code",
   "execution_count": 3,
   "id": "28ad79aa-a670-4fc4-bc83-d3b32c0ecfb6",
   "metadata": {},
   "outputs": [],
   "source": [
    "# initialise arguments\n",
    "adjective = 'white'\n",
    "seed = 0\n",
    "comparison = 'skilled_expert' + '_moefy_compare'\n",
    "ratio = 0.2\n",
    "root = f'results/results_seed_{seed}/stable-diffusion/fine-tuned-relu/runwayml/stable-diffusion-v1-5/modularity/{adjective}/{comparison}/ratio'"
   ]
  },
  {
   "cell_type": "code",
   "execution_count": null,
   "id": "6a35e5df-0a33-4b2d-ba33-417e46a60f7e",
   "metadata": {},
   "outputs": [],
   "source": [
    "# read all json files"
   ]
  }
 ],
 "metadata": {
  "kernelspec": {
   "display_name": "Python 3 (ipykernel)",
   "language": "python",
   "name": "python3"
  },
  "language_info": {
   "codemirror_mode": {
    "name": "ipython",
    "version": 3
   },
   "file_extension": ".py",
   "mimetype": "text/x-python",
   "name": "python",
   "nbconvert_exporter": "python",
   "pygments_lexer": "ipython3",
   "version": "3.10.13"
  }
 },
 "nbformat": 4,
 "nbformat_minor": 5
}
